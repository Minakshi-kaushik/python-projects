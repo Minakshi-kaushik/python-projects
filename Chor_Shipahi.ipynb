{
 "cells": [
  {
   "cell_type": "markdown",
   "id": "56962d50-fa0d-44cf-b7ec-bc1c13f79fd7",
   "metadata": {},
   "source": [
    "The Epic Chor Shipahi Game"
   ]
  },
  {
   "cell_type": "code",
   "execution_count": 18,
   "id": "f0e1ac3a-7231-4910-a009-98dd343a3e3e",
   "metadata": {},
   "outputs": [
    {
     "name": "stdout",
     "output_type": "stream",
     "text": [
      "Player 4, You are Raja 🫅 .\n",
      "\n",
      "Player 1,is your Mantri😎 .\n",
      "\n",
      "Player 1,find the Chor and Shipahi🤞 .\n",
      "\n",
      "🔍 Minister, try to guess who is the Thief! 🔍\n"
     ]
    },
    {
     "name": "stdin",
     "output_type": "stream",
     "text": [
      "Player 1, enter the name of the suspected Thief:  Player 2\n"
     ]
    },
    {
     "name": "stdout",
     "output_type": "stream",
     "text": [
      "❌ Wrong guess! The real thief was Player 3.\n",
      "\n",
      "📜 Final Roles and Points 📜\n",
      "Mantri -> Player 1 (Points: 0)\n",
      "Sipahi -> Player 2 (Points: 500)\n",
      "Chor -> Player 3 (Points: 800)\n",
      "Raja -> Player 4 (Points: 1000)\n"
     ]
    }
   ],
   "source": [
    "import random\n",
    "\n",
    "# Players list\n",
    "players = [\"Player 1\", \"Player 2\", \"Player 3\", \"Player 4\"]\n",
    "\n",
    "# Assign roles randomly\n",
    "roles = [\"Raja\", \"Mantri\", \"Sipahi\", \"Chor\"]\n",
    "random.shuffle(roles)\n",
    "\n",
    "# Mapping players to roles\n",
    "player_roles = dict(zip( roles,players))\n",
    "\n",
    "# Points system\n",
    "points = {\"Raja\": 1000, \"Mantri\": 800, \"Sipahi\": 500, \"Chor\": 0}\n",
    "\n",
    "\n",
    "print(f'{player_roles[\"Raja\"]}, You are Raja 🫅 .')\n",
    "print()\n",
    "print(f'{player_roles[\"Mantri\"]},is your Mantri😎 .')\n",
    "print()\n",
    "\n",
    "print(f'{player_roles[\"Mantri\"]},find the Chor and Shipahi🤞 .')\n",
    "\n",
    "\n",
    "# Minister makes a guess\n",
    "print(\"\\n🔍 Mantri, try to guess who is the Thief! 🔍\")\n",
    "\n",
    "# Minister inputs guess\n",
    "guess = input(f\"{player_roles[\"Mantri\"]}, enter the name of the suspected Thief: \")\n",
    "\n",
    "# Check if the guess is correct\n",
    "if guess == player_roles[\"Chor\"]:\n",
    "    print(\"✅ Correct guess! The Minister gets 800 bonus points!\")\n",
    "    points[\"Mantri\"] = 800\n",
    "else:\n",
    "    print(f\"❌ Wrong guess! The real thief was {player_roles[\"Chor\"]}.\")\n",
    "    points[\"Mantri\"]=0\n",
    "    points[\"Chor\"]=800\n",
    "    \n",
    "# Display player roles and final scores\n",
    "print(\"\\n📜 Final Roles and Points 📜\")\n",
    "for role in roles:\n",
    "    player= player_roles[role]\n",
    "    print(f\"{role} -> {player} (Points: {points[role]})\")"
   ]
  },
  {
   "cell_type": "code",
   "execution_count": null,
   "id": "c3fe0376-417d-4e73-8be0-30a601aa2c94",
   "metadata": {},
   "outputs": [],
   "source": []
  }
 ],
 "metadata": {
  "kernelspec": {
   "display_name": "Python 3 (ipykernel)",
   "language": "python",
   "name": "python3"
  },
  "language_info": {
   "codemirror_mode": {
    "name": "ipython",
    "version": 3
   },
   "file_extension": ".py",
   "mimetype": "text/x-python",
   "name": "python",
   "nbconvert_exporter": "python",
   "pygments_lexer": "ipython3",
   "version": "3.12.7"
  }
 },
 "nbformat": 4,
 "nbformat_minor": 5
}
